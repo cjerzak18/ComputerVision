{
  "nbformat": 4,
  "nbformat_minor": 0,
  "metadata": {
    "colab": {
      "provenance": [],
      "collapsed_sections": [],
      "authorship_tag": "ABX9TyPcZdf3RUzP2gQX2GKSYHAQ",
      "include_colab_link": true
    },
    "kernelspec": {
      "name": "python3",
      "display_name": "Python 3"
    },
    "language_info": {
      "name": "python"
    }
  },
  "cells": [
    {
      "cell_type": "markdown",
      "metadata": {
        "id": "view-in-github",
        "colab_type": "text"
      },
      "source": [
        "<a href=\"https://colab.research.google.com/github/cjerzak18/ComputerVision/blob/main/Machine_Learning_Intro.ipynb\" target=\"_parent\"><img src=\"https://colab.research.google.com/assets/colab-badge.svg\" alt=\"Open In Colab\"/></a>"
      ]
    },
    {
      "cell_type": "markdown",
      "source": [
        "In this notebook we will learn about a Perceptron as an example of a simple machine learning technique.\n",
        "\n",
        "An individual perceptron has one or more analog inputs and one digital output.\n",
        "\n",
        "For example, we will use a perceptron to take in the inputs of (height and weight) and output True or False (based on whether the person is on the football team or the equestrian team).\n",
        "\n",
        "\n",
        "**supervised learning** - machine learning when you have labeled data to train on.\n",
        "\n",
        "**unsupervised learning** - you do not have labeled data, but rather count on the machine to automatically generate cateogries or models of the data."
      ],
      "metadata": {
        "id": "hJ4am-Jwo0Xk"
      }
    },
    {
      "cell_type": "code",
      "execution_count": null,
      "metadata": {
        "id": "fH0uE_Oym-ls"
      },
      "outputs": [],
      "source": [
        "import numpy as np\n",
        "import matplotlib.pyplot as plt"
      ]
    },
    {
      "cell_type": "code",
      "source": [
        "# plot y = 2x +1\n",
        "x = np.linspace(0,100,50)\n",
        "y = 2*x + 1\n",
        "footballX = np.array ([25, 10])\n",
        "footballY = np.array ([175, 100])\n",
        "bX = np.array ([50, 75])\n",
        "bY = np.array ([25, 40])\n",
        "plt.plot(x,y)\n",
        "plt.plot(footballX, footballY, 'o', color='red')\n",
        "plt.plot(bX, bY, 'x', color='blue')\n",
        "plt.axis('equal')\n",
        "plt.grid(True)\n",
        "plt.ylabel('weight')\n",
        "plt.xlabel('height')\n",
        "plt.title('Title')\n",
        "plt.show()"
      ],
      "metadata": {
        "colab": {
          "base_uri": "https://localhost:8080/",
          "height": 295
        },
        "id": "uAVx5iaCownD",
        "outputId": "1b9339e6-baf9-4d06-9804-a34aa2ac3409"
      },
      "execution_count": null,
      "outputs": [
        {
          "output_type": "display_data",
          "data": {
            "text/plain": [
              "<Figure size 432x288 with 1 Axes>"
            ],
            "image/png": "[encoded data removed]"
          },
          "metadata": {
            "needs_background": "light"
          }
        }
      ]
    },
    {
      "cell_type": "code",
      "source": [
        "def perceptron():\n",
        "  \n",
        "# x----> x0\n",
        "# Y----> X1\n",
        "#\n",
        "  # plot y = 2x +1\n",
        "x = np.linspace(0,100,50)\n",
        "y = 2*x + 1\n",
        "footballX0 = np.array ([25, 10])\n",
        "footballX1 = np.array ([175, 100])\n",
        "bX = np.array ([50, 75])\n",
        "bY = np.array ([25, 40])\n",
        "plt.plot(x,y)\n",
        "plt.plot(footballX, footballY, 'o', color='red')\n",
        "plt.plot(bX0, bX1, 'x', color='blue')\n",
        "plt.axis('equal')\n",
        "plt.grid(True)\n",
        "plt.ylabel('weight')\n",
        "plt.xlabel('height')\n",
        "plt.title('Title')\n",
        "plt.show()"
      ],
      "metadata": {
        "colab": {
          "base_uri": "https://localhost:8080/",
          "height": 133
        },
        "id": "c6g42LAqtYGF",
        "outputId": "a0f089e8-9811-48f6-f073-6917ca2f4b06"
      },
      "execution_count": null,
      "outputs": [
        {
          "output_type": "error",
          "ename": "IndentationError",
          "evalue": "ignored",
          "traceback": [
            "\u001b[0;36m  File \u001b[0;32m\"<ipython-input-12-3f8093a51e21>\"\u001b[0;36m, line \u001b[0;32m7\u001b[0m\n\u001b[0;31m    x = np.linspace(0,100,50)\u001b[0m\n\u001b[0m    ^\u001b[0m\n\u001b[0;31mIndentationError\u001b[0m\u001b[0;31m:\u001b[0m expected an indented block\n"
          ]
        }
      ]
    },
    {
      "cell_type": "code",
      "source": [
        "def perceptron(X0, X1):\n",
        "  # Given X0 and X1 inputs returns True if it thinks it is an X otherwise returns False\". More specificaly, the algorithm multiplies the X0s by w0, and multiplies the X1s by w1, adds them all up, then looks at whether the sum is greater than the threshold T.\n",
        "T = 90\n",
        "w0 = 1\n",
        "w1 = 1\n",
        "sum = w0*X0 + w1*X1\n",
        "if sum > T:\n",
        "  return True\n",
        "  print('skinny')\n",
        "  else:\n",
        "    return False\n",
        "  print('fat')\n"
      ],
      "metadata": {
        "id": "Wk_felc0uQaL"
      },
      "execution_count": null,
      "outputs": []
    },
    {
      "cell_type": "code",
      "source": [
        "# this should be True\n",
        "testX0 = [50]\n",
        "testX1 = [50]\n",
        "perceptron(testX0, testX1)"
      ],
      "metadata": {
        "id": "4Yghi4p_uicw"
      },
      "execution_count": null,
      "outputs": []
    },
    {
      "cell_type": "markdown",
      "source": [
        "Bonus: Plot on the graph above the line\n",
        "that defines the interface of when our perceptron switches from False to True."
      ],
      "metadata": {
        "id": "ZGKFdB_xyvCM"
      }
    }
  ]
}