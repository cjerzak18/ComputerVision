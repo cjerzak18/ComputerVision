{
  "nbformat": 4,
  "nbformat_minor": 0,
  "metadata": {
    "colab": {
      "provenance": [],
      "collapsed_sections": [],
      "authorship_tag": "ABX9TyMlWVU5tCGUCA9H1mWj1yWK",
      "include_colab_link": true
    },
    "kernelspec": {
      "name": "python3",
      "display_name": "Python 3"
    },
    "language_info": {
      "name": "python"
    }
  },
  "cells": [
    {
      "cell_type": "markdown",
      "metadata": {
        "id": "view-in-github",
        "colab_type": "text"
      },
      "source": [
        "<a href=\"https://colab.research.google.com/github/cjerzak18/ComputerVision/blob/main/Lab2.ipynb\" target=\"_parent\"><img src=\"https://colab.research.google.com/assets/colab-badge.svg\" alt=\"Open In Colab\"/></a>"
      ]
    },
    {
      "cell_type": "code",
      "execution_count": null,
      "metadata": {
        "id": "6BDUn6bYokVa"
      },
      "outputs": [],
      "source": [
        "class School():\n",
        "\n",
        "\n",
        "    def __init__(self):\n",
        "        print(\"Start of Program\")\n",
        "\n",
        "    def PrintText(self, word):\n",
        "        print(word);\n",
        "\n",
        "    def Equation_answer(self):\n",
        "        print(\"answer =\", (328*(68/23))+(2**10))\n",
        "    def Print_My_List(self, x):\n",
        "        for i in range(len(x)):\n",
        "            print(x[i])\n",
        "\n",
        "    x = ['A', 'B', 'C', 4]\n",
        "\n",
        "\n",
        "## these are done without DEFs\n",
        "print(\"Hello How are You\")\n",
        "print(\"answer =\", (328*(68/23))+(2**10))\n",
        "y = ['A', 'B', 'C', 4]\n",
        "print(y)\n",
        "for i in range(len(y)):\n",
        "    print(y[i])\n",
        "\n",
        "## these are done with DEFs\n",
        "lab_assign = School()\n",
        "word = \"Christopher\"\n",
        "lab_assign.PrintText(word)\n",
        "lab_assign.Equation_answer()\n",
        "lab_assign.Print_My_List(lab_assign.x)"
      ]
    },
    {
      "cell_type": "code",
      "source": [
        "328*68/23+2**10\n"
      ],
      "metadata": {
        "colab": {
          "base_uri": "https://localhost:8080/"
        },
        "id": "XZDbSN2fkyED",
        "outputId": "f5282dca-bfb7-4e74-ccd7-afc5814ead89"
      },
      "execution_count": 6,
      "outputs": [
        {
          "output_type": "execute_result",
          "data": {
            "text/plain": [
              "1993.7391304347825"
            ]
          },
          "metadata": {},
          "execution_count": 6
        }
      ]
    },
    {
      "cell_type": "code",
      "source": [
        "x = ['A','B','C',4]\n",
        "print(x)"
      ],
      "metadata": {
        "colab": {
          "base_uri": "https://localhost:8080/"
        },
        "id": "j9WBMiPTl3-_",
        "outputId": "3a15e9ce-18e2-4dfe-88ae-84a86e088cee"
      },
      "execution_count": 8,
      "outputs": [
        {
          "output_type": "stream",
          "name": "stdout",
          "text": [
            "['A', 'B', 'C', 4]\n"
          ]
        }
      ]
    },
    {
      "cell_type": "code",
      "source": [
        "x[1]"
      ],
      "metadata": {
        "colab": {
          "base_uri": "https://localhost:8080/",
          "height": 36
        },
        "id": "Nb9pE2QhmO5d",
        "outputId": "205b614c-d6f4-42cb-dc8f-340862b20b33"
      },
      "execution_count": 9,
      "outputs": [
        {
          "output_type": "execute_result",
          "data": {
            "text/plain": [
              "'B'"
            ],
            "application/vnd.google.colaboratory.intrinsic+json": {
              "type": "string"
            }
          },
          "metadata": {},
          "execution_count": 9
        }
      ]
    },
    {
      "cell_type": "code",
      "source": [
        "for y in x:\n",
        "  print(y)"
      ],
      "metadata": {
        "colab": {
          "base_uri": "https://localhost:8080/"
        },
        "id": "fbf4FSkglARN",
        "outputId": "f1c87379-b7fe-4b59-e7ba-3df25c5531eb"
      },
      "execution_count": 10,
      "outputs": [
        {
          "output_type": "stream",
          "name": "stdout",
          "text": [
            "A\n",
            "B\n",
            "C\n",
            "4\n"
          ]
        }
      ]
    },
    {
      "cell_type": "code",
      "source": [
        "def myfunct(ff):\n",
        "  for y in ff:\n",
        "    print(y)"
      ],
      "metadata": {
        "id": "N3W7O7f8n3y8"
      },
      "execution_count": 16,
      "outputs": []
    },
    {
      "cell_type": "code",
      "source": [
        "myfunct(x)"
      ],
      "metadata": {
        "colab": {
          "base_uri": "https://localhost:8080/"
        },
        "id": "zrWBGw4ooM9X",
        "outputId": "03a01541-6413-440d-e222-efe2b6721935"
      },
      "execution_count": 17,
      "outputs": [
        {
          "output_type": "stream",
          "name": "stdout",
          "text": [
            "A\n",
            "B\n",
            "C\n",
            "4\n"
          ]
        }
      ]
    }
  ]
}