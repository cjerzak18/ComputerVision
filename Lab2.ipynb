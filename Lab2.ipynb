{
  "nbformat": 4,
  "nbformat_minor": 0,
  "metadata": {
    "colab": {
      "provenance": [],
      "collapsed_sections": [],
      "authorship_tag": "ABX9TyMMRD23MPRVJixpxC7/6PY1",
      "include_colab_link": true
    },
    "kernelspec": {
      "name": "python3",
      "display_name": "Python 3"
    },
    "language_info": {
      "name": "python"
    }
  },
  "cells": [
    {
      "cell_type": "markdown",
      "metadata": {
        "id": "view-in-github",
        "colab_type": "text"
      },
      "source": [
        "<a href=\"https://colab.research.google.com/github/cjerzak18/ComputerVision/blob/main/Lab2.ipynb\" target=\"_parent\"><img src=\"https://colab.research.google.com/assets/colab-badge.svg\" alt=\"Open In Colab\"/></a>"
      ]
    },
    {
      "cell_type": "code",
      "execution_count": null,
      "metadata": {
        "id": "6BDUn6bYokVa"
      },
      "outputs": [],
      "source": [
        "class School():\n",
        "\n",
        "\n",
        "    def __init__(self):\n",
        "        print(\"Start of Program\")\n",
        "\n",
        "    def PrintText(self, word):\n",
        "        print(word);\n",
        "\n",
        "    def Equation_answer(self):\n",
        "        print(\"answer =\", (328*(68/23))+(2**10))\n",
        "    def Print_My_List(self, x):\n",
        "        for i in range(len(x)):\n",
        "            print(x[i])\n",
        "\n",
        "    x = ['A', 'B', 'C', 4]\n",
        "\n",
        "\n",
        "## these are done without DEFs\n",
        "print(\"Hello How are You\")\n",
        "print(\"answer =\", (328*(68/23))+(2**10))\n",
        "y = ['A', 'B', 'C', 4]\n",
        "print(y)\n",
        "for i in range(len(y)):\n",
        "    print(y[i])\n",
        "\n",
        "## these are done with DEFs\n",
        "lab_assign = School()\n",
        "word = \"Christopher\"\n",
        "lab_assign.PrintText(word)\n",
        "lab_assign.Equation_answer()\n",
        "lab_assign.Print_My_List(lab_assign.x)"
      ]
    }
  ]
}